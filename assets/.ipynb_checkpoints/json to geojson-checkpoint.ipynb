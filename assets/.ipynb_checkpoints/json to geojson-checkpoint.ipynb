{
 "cells": [
  {
   "cell_type": "code",
   "execution_count": 1,
   "id": "8b1a894d",
   "metadata": {},
   "outputs": [
    {
     "name": "stdout",
     "output_type": "stream",
     "text": [
      "✅ Saved clean GeoJSON to world-fixed.geojson\n"
     ]
    }
   ],
   "source": [
    "import json\n",
    "from pathlib import Path\n",
    "\n",
    "# === CONFIG ===\n",
    "INPUT_FILE = \"layer.json\"  # or \"world-fixed.geojson.json\"\n",
    "OUTPUT_FILE = \"world-fixed.geojson\"\n",
    "\n",
    "# === Read JSON\n",
    "with open(INPUT_FILE, \"r\", encoding=\"utf-8\") as f:\n",
    "    data = json.load(f)\n",
    "\n",
    "# === Validate and structure as GeoJSON FeatureCollection\n",
    "if \"type\" not in data or data[\"type\"] != \"FeatureCollection\":\n",
    "    if \"objects\" in data:  # likely TopoJSON, need mapshaper\n",
    "        raise ValueError(\"This is TopoJSON. Please use mapshaper to convert.\")\n",
    "    else:\n",
    "        raise ValueError(\"Invalid GeoJSON: Missing FeatureCollection.\")\n",
    "\n",
    "# === Write as .geojson\n",
    "with open(OUTPUT_FILE, \"w\", encoding=\"utf-8\") as f:\n",
    "    json.dump(data, f)\n",
    "\n",
    "print(f\"✅ Saved clean GeoJSON to {OUTPUT_FILE}\")"
   ]
  },
  {
   "cell_type": "code",
   "execution_count": null,
   "id": "b2d18880",
   "metadata": {},
   "outputs": [],
   "source": []
  }
 ],
 "metadata": {
  "kernelspec": {
   "display_name": "Python 3 (ipykernel)",
   "language": "python",
   "name": "python3"
  },
  "language_info": {
   "codemirror_mode": {
    "name": "ipython",
    "version": 3
   },
   "file_extension": ".py",
   "mimetype": "text/x-python",
   "name": "python",
   "nbconvert_exporter": "python",
   "pygments_lexer": "ipython3",
   "version": "3.10.0"
  }
 },
 "nbformat": 4,
 "nbformat_minor": 5
}
